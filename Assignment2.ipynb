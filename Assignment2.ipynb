{
 "cells": [
  {
   "cell_type": "code",
   "execution_count": 1,
   "id": "968d8ff1",
   "metadata": {},
   "outputs": [
    {
     "name": "stdout",
     "output_type": "stream",
     "text": [
      "Sum: 15\n",
      "Difference: 5\n",
      "Product: 50\n",
      "Quotient: 2.0\n"
     ]
    }
   ],
   "source": [
    "#1\n",
    "# Define two numbers\n",
    "num1 = 10\n",
    "num2 = 5\n",
    "\n",
    "# Calculate sum\n",
    "sum_result = num1 + num2\n",
    "\n",
    "# Calculate difference\n",
    "difference_result = num1 - num2\n",
    "\n",
    "# Calculate product\n",
    "product_result = num1 * num2\n",
    "\n",
    "# Calculate quotient\n",
    "quotient_result = num1 / num2\n",
    "\n",
    "# Print the results\n",
    "print(\"Sum:\", sum_result)\n",
    "print(\"Difference:\", difference_result)\n",
    "print(\"Product:\", product_result)\n",
    "print(\"Quotient:\", quotient_result)"
   ]
  },
  {
   "cell_type": "code",
   "execution_count": 2,
   "id": "760c7923",
   "metadata": {},
   "outputs": [
    {
     "name": "stdout",
     "output_type": "stream",
     "text": [
      "After addition: 15\n",
      "After subtraction: 12\n",
      "After multiplication: 24\n",
      "After division: 6.0\n",
      "After floor division: 3.0\n",
      "After modulus: 0.0\n",
      "After exponentiation: 0.0\n"
     ]
    }
   ],
   "source": [
    "#2\n",
    "# Initialize a variable\n",
    "x = 10\n",
    "\n",
    "# Perform various assignment operations on the variable\n",
    "x += 5  # Equivalent to x = x + 5\n",
    "print(\"After addition:\", x)\n",
    "\n",
    "x -= 3  # Equivalent to x = x - 3\n",
    "print(\"After subtraction:\", x)\n",
    "\n",
    "x *= 2  # Equivalent to x = x * 2\n",
    "print(\"After multiplication:\", x)\n",
    "\n",
    "x /= 4  # Equivalent to x = x / 4\n",
    "print(\"After division:\", x)\n",
    "\n",
    "x //= 2  # Equivalent to x = x // 2\n",
    "print(\"After floor division:\", x)\n",
    "\n",
    "x %= 3  # Equivalent to x = x % 3\n",
    "print(\"After modulus:\", x)\n",
    "\n",
    "x **= 2  # Equivalent to x = x ** 2\n",
    "print(\"After exponentiation:\", x)"
   ]
  },
  {
   "cell_type": "code",
   "execution_count": 3,
   "id": "49dc9ada",
   "metadata": {},
   "outputs": [
    {
     "name": "stdout",
     "output_type": "stream",
     "text": [
      "10 is greater than 5\n"
     ]
    }
   ],
   "source": [
    "#3\n",
    "# Define two numbers\n",
    "num1 = 10\n",
    "num2 = 5\n",
    "\n",
    "# Compare the numbers\n",
    "if num1 > num2:\n",
    "    print(f\"{num1} is greater than {num2}\")\n",
    "elif num1 < num2:\n",
    "    print(f\"{num1} is less than {num2}\")\n",
    "else:\n",
    "    print(f\"{num1} and {num2} are equal\")\n"
   ]
  },
  {
   "cell_type": "code",
   "execution_count": 4,
   "id": "8ad93f5f",
   "metadata": {},
   "outputs": [
    {
     "name": "stdout",
     "output_type": "stream",
     "text": [
      "x is greater than both y and z\n",
      "y is not greater than x\n"
     ]
    }
   ],
   "source": [
    "#4\n",
    "# Define variables\n",
    "x = 10\n",
    "y = 5\n",
    "z = 7\n",
    "\n",
    "# Check conditions using logical operators\n",
    "\n",
    "# Logical AND (all conditions must be true)\n",
    "if x > y and x > z:\n",
    "    print(\"x is greater than both y and z\")\n",
    "\n",
    "# Logical OR (at least one condition must be true)\n",
    "if x == y or x == z:\n",
    "    print(\"x is equal to either y or z\")\n",
    "\n",
    "# Logical NOT (negation of a condition)\n",
    "if not (y > x):\n",
    "    print(\"y is not greater than x\")"
   ]
  },
  {
   "cell_type": "code",
   "execution_count": 5,
   "id": "94012ae1",
   "metadata": {},
   "outputs": [
    {
     "name": "stdout",
     "output_type": "stream",
     "text": [
      "Identity check using 'is':\n",
      "a is b: False\n",
      "a is c: True\n"
     ]
    }
   ],
   "source": [
    "#5\n",
    "# Define two variables\n",
    "a = [1, 2, 3]\n",
    "b = [1, 2, 3]\n",
    "c = a\n",
    "\n",
    "# Check the identity of variables\n",
    "print(\"Identity check using 'is':\")\n",
    "print(\"a is b:\", a is b)  \n",
    "print(\"a is c:\", a is c)  "
   ]
  },
  {
   "cell_type": "code",
   "execution_count": 6,
   "id": "dfe7e290",
   "metadata": {},
   "outputs": [
    {
     "name": "stdout",
     "output_type": "stream",
     "text": [
      "Bitwise AND: 2\n",
      "Bitwise OR: 15\n",
      "Bitwise XOR: 13\n",
      "Bitwise NOT (num1): -11\n",
      "Left shift (num1): 20\n",
      "Right shift (num2): 3\n"
     ]
    }
   ],
   "source": [
    "#6\n",
    "# Define two integers\n",
    "num1 = 10  # Binary: 1010\n",
    "num2 = 7   # Binary: 0111\n",
    "\n",
    "# Perform bitwise AND\n",
    "bitwise_and = num1 & num2  # Binary: 0010 (decimal: 2)\n",
    "\n",
    "# Perform bitwise OR\n",
    "bitwise_or = num1 | num2   # Binary: 1111 (decimal: 15)\n",
    "\n",
    "# Perform bitwise XOR\n",
    "bitwise_xor = num1 ^ num2  # Binary: 1101 (decimal: 13)\n",
    "\n",
    "# Perform bitwise NOT on num1\n",
    "bitwise_not_num1 = ~num1   # Binary: -1011 (decimal: -11)\n",
    "\n",
    "# Perform left shift on num1\n",
    "left_shift_num1 = num1 << 1  # Binary: 10100 (decimal: 20)\n",
    "\n",
    "# Perform right shift on num2\n",
    "right_shift_num2 = num2 >> 1  # Binary: 0011 (decimal: 3)\n",
    "\n",
    "# Print the results\n",
    "print(\"Bitwise AND:\", bitwise_and)\n",
    "print(\"Bitwise OR:\", bitwise_or)\n",
    "print(\"Bitwise XOR:\", bitwise_xor)\n",
    "print(\"Bitwise NOT (num1):\", bitwise_not_num1)\n",
    "print(\"Left shift (num1):\", left_shift_num1)\n",
    "print(\"Right shift (num2):\", right_shift_num2)"
   ]
  },
  {
   "cell_type": "code",
   "execution_count": 7,
   "id": "5d757714",
   "metadata": {},
   "outputs": [
    {
     "name": "stdout",
     "output_type": "stream",
     "text": [
      "Original number: 10\n",
      "Number with changed sign: -10\n"
     ]
    }
   ],
   "source": [
    "#7\n",
    "# Define a number\n",
    "number = 10\n",
    "\n",
    "# Change the sign using unary operator\n",
    "negated_number = -number\n",
    "\n",
    "# Print the original number and the number with changed sign\n",
    "print(\"Original number:\", number)\n",
    "print(\"Number with changed sign:\", negated_number)"
   ]
  },
  {
   "cell_type": "code",
   "execution_count": 8,
   "id": "b6a35887",
   "metadata": {},
   "outputs": [
    {
     "name": "stdout",
     "output_type": "stream",
     "text": [
      "y is greater\n"
     ]
    }
   ],
   "source": [
    "#8\n",
    "# Define a condition\n",
    "x = 10\n",
    "y = 20\n",
    "\n",
    "# Assign values based on condition using ternary operator\n",
    "result = \"x is greater\" if x > y else \"y is greater\"\n",
    "\n",
    "# Print the result\n",
    "print(result)"
   ]
  },
  {
   "cell_type": "code",
   "execution_count": null,
   "id": "2b96d6c1",
   "metadata": {},
   "outputs": [],
   "source": []
  }
 ],
 "metadata": {
  "kernelspec": {
   "display_name": "Python 3 (ipykernel)",
   "language": "python",
   "name": "python3"
  },
  "language_info": {
   "codemirror_mode": {
    "name": "ipython",
    "version": 3
   },
   "file_extension": ".py",
   "mimetype": "text/x-python",
   "name": "python",
   "nbconvert_exporter": "python",
   "pygments_lexer": "ipython3",
   "version": "3.11.5"
  }
 },
 "nbformat": 4,
 "nbformat_minor": 5
}
